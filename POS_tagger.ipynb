{
 "cells": [
  {
   "cell_type": "markdown",
   "metadata": {},
   "source": [
    "# POS Tagging using RNN"
   ]
  },
  {
   "cell_type": "markdown",
   "metadata": {},
   "source": [
    "The process of classifying words into their __parts of speech__ and labeling them accordingly is known as **part-of-speech tagging**, or simply **POS-tagging**.\n",
    "\n",
    "POS tagging helps in uderstanding context of in which the word is being used. For example: POS tag for word green in two sentences.\n",
    "\n",
    "1. This is a **green** leaf.   //ADJECTIVE\n",
    "2. I like **greens** in my food.   //NOUN\n",
    "\n",
    "\n",
    "POS Tagging is the offline RNN problem as we need full sentence beforehand to identify POS tag for a word. POS tag not only depends on the word appearing before but after the said word.\n",
    "\n",
    "The NLTK library has a number of corpora which contains word and its POS tag. The following table provide information about each tag:\n",
    "\n",
    "![POS tags](./jupyter_resources/pos_tagging.png)"
   ]
  },
  {
   "cell_type": "markdown",
   "metadata": {},
   "source": [
    "# Notebook layout\n",
    "1. Preprocess data\n",
    "2. Vanilla RNN\n",
    "3. Word Embeddings\n",
    "4. LSTM\n",
    "5. GRU\n",
    "6. Bidirectional LSTM\n",
    "7. Model Evaluation"
   ]
  },
  {
   "cell_type": "code",
   "execution_count": 25,
   "metadata": {
    "collapsed": true
   },
   "outputs": [],
   "source": [
    "# import necessary libraries\n",
    "import warnings\n",
    "warnings.filterwarnings(\"ignore\")\n",
    "\n",
    "import numpy as np\n",
    "\n",
    "from matplotlib import pyplot as plt\n",
    "\n",
    "from nltk.corpus import brown\n",
    "from nltk.corpus import treebank\n",
    "from nltk.corpus import conll2000\n",
    "\n",
    "import seaborn as sns\n",
    "\n",
    "from gensim.models import KeyedVectors\n",
    "\n",
    "from keras.preprocessing.sequence import pad_sequences\n",
    "from keras.utils.np_utils import to_categorical\n",
    "from keras.models import Sequential\n",
    "from keras.layers import Embedding\n",
    "from keras.layers import Dense, Input\n",
    "from keras.layers import TimeDistributed\n",
    "from keras.layers import LSTM, GRU, Bidirectional, SimpleRNN, RNN\n",
    "from keras.models import Model\n",
    "from keras.preprocessing.text import Tokenizer\n",
    "\n",
    "from sklearn.model_selection import train_test_split\n",
    "from sklearn.utils import shuffle"
   ]
  },
  {
   "cell_type": "markdown",
   "metadata": {},
   "source": [
    "# 1. Preprocess data"
   ]
  },
  {
   "cell_type": "markdown",
   "metadata": {},
   "source": [
    "## Load data"
   ]
  },
  {
   "cell_type": "code",
   "execution_count": 26,
   "metadata": {
    "collapsed": true
   },
   "outputs": [],
   "source": [
    "# load POS tagged corpora from NLTK\n",
    "treebank_corpus = treebank.tagged_sents(tagset='universal')\n",
    "brown_corpus = brown.tagged_sents(tagset='universal')\n",
    "conll_corpus = conll2000.tagged_sents(tagset='universal')\n",
    "tagged_sentences = treebank_corpus + brown_corpus + conll_corpus"
   ]
  },
  {
   "cell_type": "code",
   "execution_count": 31,
   "metadata": {},
   "outputs": [
    {
     "data": {
      "text/plain": [
       "[('Rudolph', 'NOUN'),\n",
       " ('Agnew', 'NOUN'),\n",
       " (',', '.'),\n",
       " ('55', 'NUM'),\n",
       " ('years', 'NOUN'),\n",
       " ('old', 'ADJ'),\n",
       " ('and', 'CONJ'),\n",
       " ('former', 'ADJ'),\n",
       " ('chairman', 'NOUN'),\n",
       " ('of', 'ADP'),\n",
       " ('Consolidated', 'NOUN'),\n",
       " ('Gold', 'NOUN'),\n",
       " ('Fields', 'NOUN'),\n",
       " ('PLC', 'NOUN'),\n",
       " (',', '.'),\n",
       " ('was', 'VERB'),\n",
       " ('named', 'VERB'),\n",
       " ('*-1', 'X'),\n",
       " ('a', 'DET'),\n",
       " ('nonexecutive', 'ADJ'),\n",
       " ('director', 'NOUN'),\n",
       " ('of', 'ADP'),\n",
       " ('this', 'DET'),\n",
       " ('British', 'ADJ'),\n",
       " ('industrial', 'ADJ'),\n",
       " ('conglomerate', 'NOUN'),\n",
       " ('.', '.')]"
      ]
     },
     "execution_count": 31,
     "metadata": {},
     "output_type": "execute_result"
    }
   ],
   "source": [
    "# let's look at the data\n",
    "tagged_sentences[2]"
   ]
  },
  {
   "cell_type": "markdown",
   "metadata": {},
   "source": [
    "## Divide data in words (X) and tags (Y)"
   ]
  },
  {
   "cell_type": "markdown",
   "metadata": {},
   "source": [
    "Since this is a **many-to-many** problem, each data point will be a different sentence of the corpora.\n",
    "\n",
    "Each data point will have multiple words in the **input sequence**. This is what we will refer to as **X**.\n",
    "\n",
    "Each word will have its correpsonding tag in the **output sequence**. This what we will refer to as **Y**.\n",
    "\n",
    "Sample dataset:\n",
    "\n",
    "|                    X                        |                 Y                |\n",
    "|---------------------------------------------|----------------------------------|\n",
    "|   Mr. Vinken is chairman of Elsevier        |   NOUN NOUN VERB NOUN ADP NOUN   |\n",
    "|     We have no useful information           |      PRON VERB DET ADJ NOUN      |"
   ]
  },
  {
   "cell_type": "code",
   "execution_count": 32,
   "metadata": {
    "collapsed": true
   },
   "outputs": [],
   "source": [
    "X = [] # store input sequence\n",
    "Y = [] # store output sequence\n",
    "\n",
    "for sentence in tagged_sentences:\n",
    "    X_sentence = []\n",
    "    Y_sentence = []\n",
    "    for entity in sentence:         \n",
    "        X_sentence.append(entity[0])  # entity[0] contains the word\n",
    "        Y_sentence.append(entity[1])  # entity[1] contains corresponding tag\n",
    "        \n",
    "    X.append(X_sentence)\n",
    "    Y.append(Y_sentence)"
   ]
  },
  {
   "cell_type": "code",
   "execution_count": 33,
   "metadata": {
    "collapsed": true
   },
   "outputs": [],
   "source": [
    "num_words = len(set([word.lower() for sentence in X for word in sentence]))\n",
    "num_tags   = len(set([word.lower() for sentence in Y for word in sentence]))"
   ]
  },
  {
   "cell_type": "code",
   "execution_count": 34,
   "metadata": {},
   "outputs": [
    {
     "name": "stdout",
     "output_type": "stream",
     "text": [
      "Total number of tagged sentences: 72202\n",
      "Vocabulary size: 59448\n",
      "Total number of tags: 12\n"
     ]
    }
   ],
   "source": [
    "print(\"Total number of tagged sentences: {}\".format(len(X)))\n",
    "print(\"Vocabulary size: {}\".format(num_words))\n",
    "print(\"Total number of tags: {}\".format(num_tags))"
   ]
  },
  {
   "cell_type": "code",
   "execution_count": 35,
   "metadata": {},
   "outputs": [
    {
     "name": "stdout",
     "output_type": "stream",
     "text": [
      "sample X:  ['Pierre', 'Vinken', ',', '61', 'years', 'old', ',', 'will', 'join', 'the', 'board', 'as', 'a', 'nonexecutive', 'director', 'Nov.', '29', '.'] \n",
      "\n",
      "sample Y:  ['NOUN', 'NOUN', '.', 'NUM', 'NOUN', 'ADJ', '.', 'VERB', 'VERB', 'DET', 'NOUN', 'ADP', 'DET', 'ADJ', 'NOUN', 'NOUN', 'NUM', '.'] \n",
      "\n"
     ]
    }
   ],
   "source": [
    "# let's look at first data point\n",
    "# this is one data point that will be fed to the RNN\n",
    "print('sample X: ', X[0], '\\n')\n",
    "print('sample Y: ', Y[0], '\\n')"
   ]
  },
  {
   "cell_type": "code",
   "execution_count": 36,
   "metadata": {},
   "outputs": [
    {
     "name": "stdout",
     "output_type": "stream",
     "text": [
      "Length of first input sequence  : 18\n",
      "Length of first output sequence : 18\n"
     ]
    }
   ],
   "source": [
    "# In this many-to-many problem, the length of each input and output sequence must be the same.\n",
    "# Since each word is tagged, it's important to make sure that the length of input sequence equals the output sequence\n",
    "print(\"Length of first input sequence  : {}\".format(len(X[0])))\n",
    "print(\"Length of first output sequence : {}\".format(len(Y[0])))"
   ]
  },
  {
   "cell_type": "markdown",
   "metadata": {},
   "source": [
    "## Vectorise X and Y"
   ]
  },
  {
   "cell_type": "markdown",
   "metadata": {},
   "source": [
    "#### Encode X and Y to integer values\n",
    "\n",
    "We'll use the Tokenizer() function from Keras library to encode text sequence to integer sequence"
   ]
  },
  {
   "cell_type": "code",
   "execution_count": 37,
   "metadata": {
    "collapsed": true
   },
   "outputs": [],
   "source": [
    "# encode X\n",
    "\n",
    "word_tokenizer = Tokenizer()                      # instantiate tokeniser\n",
    "word_tokenizer.fit_on_texts(X)                    # fit tokeniser on data\n",
    "X_encoded = word_tokenizer.texts_to_sequences(X)  # use the tokeniser to encode input sequence"
   ]
  },
  {
   "cell_type": "code",
   "execution_count": 38,
   "metadata": {
    "collapsed": true
   },
   "outputs": [],
   "source": [
    "# encode Y\n",
    "\n",
    "tag_tokenizer = Tokenizer()\n",
    "tag_tokenizer.fit_on_texts(Y)\n",
    "Y_encoded = tag_tokenizer.texts_to_sequences(Y)"
   ]
  },
  {
   "cell_type": "code",
   "execution_count": 39,
   "metadata": {},
   "outputs": [
    {
     "name": "stdout",
     "output_type": "stream",
     "text": [
      "** Raw data point ** \n",
      " ---------------------------------------------------------------------------------------------------- \n",
      "\n",
      "X:  ['Pierre', 'Vinken', ',', '61', 'years', 'old', ',', 'will', 'join', 'the', 'board', 'as', 'a', 'nonexecutive', 'director', 'Nov.', '29', '.'] \n",
      "\n",
      "Y:  ['NOUN', 'NOUN', '.', 'NUM', 'NOUN', 'ADJ', '.', 'VERB', 'VERB', 'DET', 'NOUN', 'ADP', 'DET', 'ADJ', 'NOUN', 'NOUN', 'NUM', '.'] \n",
      "\n",
      "\n",
      "** Encoded data point ** \n",
      " ---------------------------------------------------------------------------------------------------- \n",
      "\n",
      "X:  [6423, 24231, 2, 7652, 102, 170, 2, 47, 1898, 1, 269, 17, 7, 13230, 619, 1711, 2761, 3] \n",
      "\n",
      "Y:  [1, 1, 3, 11, 1, 6, 3, 2, 2, 5, 1, 4, 5, 6, 1, 1, 11, 3] \n",
      "\n"
     ]
    }
   ],
   "source": [
    "# look at first encoded data point\n",
    "\n",
    "print(\"** Raw data point **\", \"\\n\", \"-\"*100, \"\\n\")\n",
    "print('X: ', X[0], '\\n')\n",
    "print('Y: ', Y[0], '\\n')\n",
    "print()\n",
    "print(\"** Encoded data point **\", \"\\n\", \"-\"*100, \"\\n\")\n",
    "print('X: ', X_encoded[0], '\\n')\n",
    "print('Y: ', Y_encoded[0], '\\n')"
   ]
  },
  {
   "cell_type": "code",
   "execution_count": 40,
   "metadata": {},
   "outputs": [
    {
     "name": "stdout",
     "output_type": "stream",
     "text": [
      "0 sentences have disparate input-output lengths.\n"
     ]
    }
   ],
   "source": [
    "# make sure that each sequence of input and output is same length\n",
    "\n",
    "different_length = [1 if len(input) != len(output) else 0 for input, output in zip(X_encoded, Y_encoded)]\n",
    "print(\"{} sentences have disparate input-output lengths.\".format(sum(different_length)))"
   ]
  },
  {
   "cell_type": "markdown",
   "metadata": {},
   "source": [
    "## Pad sequences"
   ]
  },
  {
   "cell_type": "markdown",
   "metadata": {},
   "source": [
    "The next step after encoding the data is to **define the sequence lengths**. As of now, the sentences present in the data are of various lengths. We need to either pad short sentences or truncate long sentences to a fixed length. This fixed length, however, is a **hyperparameter**."
   ]
  },
  {
   "cell_type": "code",
   "execution_count": 41,
   "metadata": {},
   "outputs": [
    {
     "name": "stdout",
     "output_type": "stream",
     "text": [
      "Length of longest sentence: 271\n"
     ]
    }
   ],
   "source": [
    "# check length of longest sentence\n",
    "lengths = [len(seq) for seq in X_encoded]\n",
    "print(\"Length of longest sentence: {}\".format(max(lengths)))"
   ]
  },
  {
   "cell_type": "code",
   "execution_count": 42,
   "metadata": {},
   "outputs": [
    {
     "data": {
      "image/png": "[encoded data removed]",
      "text/plain": [
       "<Figure size 432x288 with 1 Axes>"
      ]
     },
     "metadata": {
      "needs_background": "light"
     },
     "output_type": "display_data"
    }
   ],
   "source": [
    "sns.boxplot(lengths)\n",
    "plt.show()"
   ]
  },
  {
   "cell_type": "code",
   "execution_count": 43,
   "metadata": {
    "collapsed": true
   },
   "outputs": [],
   "source": [
    "# Pad each sequence to MAX_SEQ_LENGTH using KERAS' pad_sequences() function. \n",
    "# Sentences longer than MAX_SEQ_LENGTH are truncated.\n",
    "# Sentences shorter than MAX_SEQ_LENGTH are padded with zeroes.\n",
    "\n",
    "# Truncation and padding can either be 'pre' or 'post'. \n",
    "# For padding we are using 'pre' padding type, that is, add zeroes on the left side.\n",
    "# For truncation, we are using 'post', that is, truncate a sentence from right side.\n",
    "\n",
    "MAX_SEQ_LENGTH = 100  # sequences greater than 100 in length will be truncated\n",
    "\n",
    "X_padded = pad_sequences(X_encoded, maxlen=MAX_SEQ_LENGTH, padding=\"pre\", truncating=\"post\")\n",
    "Y_padded = pad_sequences(Y_encoded, maxlen=MAX_SEQ_LENGTH, padding=\"pre\", truncating=\"post\")"
   ]
  },
  {
   "cell_type": "code",
   "execution_count": 44,
   "metadata": {
    "scrolled": true
   },
   "outputs": [
    {
     "name": "stdout",
     "output_type": "stream",
     "text": [
      "[    0     0     0     0     0     0     0     0     0     0     0     0\n",
      "     0     0     0     0     0     0     0     0     0     0     0     0\n",
      "     0     0     0     0     0     0     0     0     0     0     0     0\n",
      "     0     0     0     0     0     0     0     0     0     0     0     0\n",
      "     0     0     0     0     0     0     0     0     0     0     0     0\n",
      "     0     0     0     0     0     0     0     0     0     0     0     0\n",
      "     0     0     0     0     0     0     0     0     0     0  6423 24231\n",
      "     2  7652   102   170     2    47  1898     1   269    17     7 13230\n",
      "   619  1711  2761     3] \n",
      "\n",
      "\n",
      "\n",
      "[ 0  0  0  0  0  0  0  0  0  0  0  0  0  0  0  0  0  0  0  0  0  0  0  0\n",
      "  0  0  0  0  0  0  0  0  0  0  0  0  0  0  0  0  0  0  0  0  0  0  0  0\n",
      "  0  0  0  0  0  0  0  0  0  0  0  0  0  0  0  0  0  0  0  0  0  0  0  0\n",
      "  0  0  0  0  0  0  0  0  0  0  1  1  3 11  1  6  3  2  2  5  1  4  5  6\n",
      "  1  1 11  3]\n"
     ]
    }
   ],
   "source": [
    "# print the first sequence\n",
    "print(X_padded[0], \"\\n\"*3)\n",
    "print(Y_padded[0])"
   ]
  },
  {
   "cell_type": "markdown",
   "metadata": {},
   "source": [
    "RNN will learn the zero to zero mapping while training. So we don't need to worry about the padded zeroes. Please note that zero is not reserved for any word or tag, it's only reserved for padding."
   ]
  },
  {
   "cell_type": "code",
   "execution_count": 45,
   "metadata": {
    "collapsed": true
   },
   "outputs": [],
   "source": [
    "# assign padded sequences to X and Y\n",
    "X, Y = X_padded, Y_padded"
   ]
  },
  {
   "cell_type": "markdown",
   "metadata": {},
   "source": [
    "## Word embeddings"
   ]
  },
  {
   "cell_type": "markdown",
   "metadata": {},
   "source": [
    "Currently, each word and each tag is encoded as an integer. \n",
    "\n",
    "We'll use a more sophisticated technique to represent the input words (X) using what's known as **word embeddings**.\n",
    "\n",
    "However, to represent each tag in Y, we'll simply use **one-hot encoding** scheme since there are only 13 tags in the dataset and the LSTM will have no problems in learning its own representation of these tags."
   ]
  },
  {
   "cell_type": "markdown",
   "metadata": {},
   "source": [
    "To use word embeddings, you can go for either of the following models:\n",
    "1. word2vec model: https://code.google.com/archive/p/word2vec/\n",
    "2. GloVe model : https://nlp.stanford.edu/projects/glove/\n",
    "\n",
    "We're using the word2vec model for no particular reason. Both of these are very efficient in representing words. You can try both and see which one works better.\n",
    "\n",
    "Dimensions of a word embedding is: (VOCABULARY_SIZE, EMBEDDING_DIMENSION)"
   ]
  },
  {
   "cell_type": "markdown",
   "metadata": {},
   "source": [
    "### Use word embeddings for input sequences (X)"
   ]
  },
  {
   "cell_type": "code",
   "execution_count": 49,
   "metadata": {
    "collapsed": true
   },
   "outputs": [],
   "source": [
    "# word2vec download link (Size ~ 1.5GB): https://drive.google.com/file/d/0B7XkCwpI5KDYNlNUTTlSS21pQmM/edit\n",
    "\n",
    "path = './GoogleNews-vectors-negative300.bin'\n",
    "\n",
    "# load word2vec using the following function present in the gensim library\n",
    "word2vec = KeyedVectors.load_word2vec_format(path, binary=True)"
   ]
  },
  {
   "cell_type": "code",
   "execution_count": 50,
   "metadata": {},
   "outputs": [
    {
     "data": {
      "text/plain": [
       "[('Queen', 0.4929388165473938),\n",
       " ('Tupou_V.', 0.45174291729927063),\n",
       " ('Oprah_BFF_Gayle', 0.4422132670879364),\n",
       " ('Jackson', 0.440250426530838),\n",
       " ('NECN_Alison', 0.43312832713127136),\n",
       " ('Whitfield', 0.42834725975990295),\n",
       " ('Ida_Vandross', 0.42084527015686035),\n",
       " ('prosecutor_Dan_Satterberg', 0.42075902223587036),\n",
       " ('martin_Luther_King', 0.42059648036956787),\n",
       " ('Coretta_King', 0.42027339339256287)]"
      ]
     },
     "execution_count": 50,
     "metadata": {},
     "output_type": "execute_result"
    }
   ],
   "source": [
    "# word2vec effectiveness\n",
    "word2vec.most_similar(positive = [\"King\", \"Woman\"], negative = [\"Man\"])"
   ]
  },
  {
   "cell_type": "code",
   "execution_count": 51,
   "metadata": {
    "collapsed": true
   },
   "outputs": [],
   "source": [
    "# assign word vectors from word2vec model\n",
    "\n",
    "EMBEDDING_SIZE  = 300  # each word in word2vec model is represented using a 300 dimensional vector\n",
    "VOCABULARY_SIZE = len(word_tokenizer.word_index) + 1\n",
    "\n",
    "# create an empty embedding matix\n",
    "embedding_weights = np.zeros((VOCABULARY_SIZE, EMBEDDING_SIZE))\n",
    "\n",
    "# create a word to index dictionary mapping\n",
    "word2id = word_tokenizer.word_index\n",
    "\n",
    "# copy vectors from word2vec model to the words present in corpus\n",
    "for word, index in word2id.items():\n",
    "    try:\n",
    "        embedding_weights[index, :] = word2vec[word]\n",
    "    except KeyError:\n",
    "        pass"
   ]
  },
  {
   "cell_type": "code",
   "execution_count": 52,
   "metadata": {},
   "outputs": [
    {
     "name": "stdout",
     "output_type": "stream",
     "text": [
      "Embeddings shape: (59449, 300)\n"
     ]
    }
   ],
   "source": [
    "# check embedding dimension\n",
    "print(\"Embeddings shape: {}\".format(embedding_weights.shape))"
   ]
  },
  {
   "cell_type": "code",
   "execution_count": 22,
   "metadata": {},
   "outputs": [
    {
     "data": {
      "text/plain": [
       "array([ 0.4453125 , -0.20019531,  0.20019531, -0.03149414,  0.078125  ,\n",
       "       -0.390625  ,  0.13671875, -0.13867188,  0.05395508,  0.10546875,\n",
       "       -0.05029297, -0.23730469,  0.19921875,  0.12597656, -0.12695312,\n",
       "        0.34179688,  0.06347656,  0.26757812, -0.07324219, -0.29101562,\n",
       "        0.10498047,  0.11914062,  0.23730469,  0.00640869,  0.12451172,\n",
       "       -0.00939941, -0.02770996,  0.03076172,  0.07421875, -0.22851562,\n",
       "       -0.08056641, -0.05273438,  0.16894531,  0.19824219, -0.15625   ,\n",
       "       -0.08740234,  0.10742188, -0.07177734,  0.05200195,  0.25976562,\n",
       "        0.171875  , -0.13574219,  0.06738281,  0.00531006,  0.15527344,\n",
       "       -0.03515625,  0.08789062,  0.3359375 , -0.12890625,  0.17578125,\n",
       "       -0.08642578,  0.32421875, -0.09033203,  0.35351562,  0.24316406,\n",
       "       -0.07470703, -0.06640625, -0.17578125,  0.06689453, -0.03833008,\n",
       "        0.0100708 , -0.21484375, -0.03686523,  0.04394531,  0.02209473,\n",
       "        0.00219727, -0.22460938,  0.03015137, -0.21582031,  0.16015625,\n",
       "        0.23339844, -0.16699219, -0.09228516,  0.10644531,  0.19335938,\n",
       "       -0.26757812,  0.15722656, -0.08691406,  0.11181641,  0.14941406,\n",
       "       -0.20507812,  0.04882812, -0.07519531, -0.21582031, -0.10107422,\n",
       "       -0.13378906, -0.06103516,  0.05444336,  0.07470703,  0.09521484,\n",
       "       -0.0144043 ,  0.27929688, -0.25585938, -0.05273438, -0.22460938,\n",
       "        0.10253906, -0.15136719,  0.21289062, -0.04711914, -0.12109375,\n",
       "        0.04663086,  0.25976562,  0.13574219,  0.00799561,  0.02001953,\n",
       "        0.1796875 ,  0.30664062,  0.06152344,  0.13574219, -0.09619141,\n",
       "       -0.07421875,  0.38671875,  0.20800781,  0.12695312,  0.05200195,\n",
       "        0.17675781, -0.16796875, -0.19335938, -0.06152344, -0.07568359,\n",
       "       -0.18457031,  0.06030273, -0.15136719, -0.1953125 , -0.23339844,\n",
       "        0.00738525, -0.02478027, -0.09765625, -0.06054688,  0.20214844,\n",
       "       -0.2734375 ,  0.00595093, -0.34570312, -0.12988281,  0.00418091,\n",
       "        0.09960938,  0.0246582 ,  0.15917969, -0.02038574,  0.30273438,\n",
       "       -0.20800781, -0.20214844, -0.03930664, -0.06494141,  0.00436401,\n",
       "       -0.02270508, -0.171875  ,  0.30273438, -0.16113281, -0.49414062,\n",
       "        0.3515625 ,  0.39257812,  0.09814453,  0.41796875,  0.05371094,\n",
       "        0.02392578, -0.03710938, -0.08251953, -0.38671875, -0.40625   ,\n",
       "       -0.05664062,  0.203125  , -0.01782227,  0.3359375 ,  0.19140625,\n",
       "       -0.44335938,  0.00927734,  0.24804688, -0.05102539,  0.19726562,\n",
       "        0.03881836,  0.03442383, -0.40039062, -0.09912109, -0.07128906,\n",
       "        0.21484375, -0.01422119,  0.04907227, -0.07421875, -0.21582031,\n",
       "       -0.41992188,  0.02172852,  0.11083984, -0.33398438, -0.2734375 ,\n",
       "       -0.05322266, -0.16601562, -0.28515625, -0.12207031,  0.04882812,\n",
       "       -0.0625    , -0.04077148, -0.16503906,  0.0480957 , -0.21191406,\n",
       "        0.20019531, -0.2109375 ,  0.10839844, -0.14648438, -0.07958984,\n",
       "       -0.05151367, -0.16601562, -0.24902344, -0.375     ,  0.05664062,\n",
       "       -0.13671875, -0.2578125 ,  0.28515625, -0.04736328,  0.13574219,\n",
       "       -0.14550781,  0.19433594, -0.21972656,  0.08447266, -0.10791016,\n",
       "       -0.11816406, -0.16015625,  0.12060547, -0.10888672,  0.04345703,\n",
       "        0.11474609, -0.08447266, -0.00720215,  0.03662109, -0.38671875,\n",
       "       -0.03881836, -0.03198242,  0.00344849,  0.22558594, -0.06787109,\n",
       "       -0.16699219,  0.2421875 ,  0.05712891,  0.27539062, -0.0456543 ,\n",
       "       -0.19042969, -0.17285156,  0.00836182, -0.03271484,  0.16992188,\n",
       "       -0.18554688, -0.0703125 , -0.32617188, -0.00668335, -0.02770996,\n",
       "        0.3359375 ,  0.125     , -0.2109375 ,  0.06005859, -0.07080078,\n",
       "        0.11132812,  0.125     ,  0.25390625,  0.29296875, -0.03125   ,\n",
       "        0.09033203, -0.20507812, -0.07861328,  0.02062988, -0.0546875 ,\n",
       "       -0.23339844,  0.00096893, -0.04516602,  0.16894531, -0.22167969,\n",
       "        0.08105469,  0.33398438,  0.09619141,  0.00866699, -0.03271484,\n",
       "        0.05493164,  0.12109375,  0.16210938, -0.10302734,  0.27148438,\n",
       "       -0.03344727, -0.30273438,  0.04223633,  0.08496094, -0.15527344,\n",
       "        0.10107422, -0.11474609, -0.13085938,  0.22949219,  0.12988281,\n",
       "        0.09863281, -0.03588867,  0.10693359, -0.24902344,  0.19238281,\n",
       "       -0.05322266, -0.09033203, -0.31640625, -0.5703125 , -0.15917969,\n",
       "        0.0291748 , -0.0246582 , -0.07714844, -0.04663086, -0.17578125])"
      ]
     },
     "execution_count": 22,
     "metadata": {},
     "output_type": "execute_result"
    }
   ],
   "source": [
    "# let's look at an embedding of a word\n",
    "embedding_weights[word_tokenizer.word_index['joy']]"
   ]
  },
  {
   "cell_type": "markdown",
   "metadata": {},
   "source": [
    "### Use one-hot encoding for output sequences (Y)"
   ]
  },
  {
   "cell_type": "code",
   "execution_count": 53,
   "metadata": {
    "collapsed": true
   },
   "outputs": [],
   "source": [
    "# use Keras' to_categorical function to one-hot encode Y\n",
    "Y = to_categorical(Y)"
   ]
  },
  {
   "cell_type": "code",
   "execution_count": 54,
   "metadata": {},
   "outputs": [
    {
     "name": "stdout",
     "output_type": "stream",
     "text": [
      "(72202, 100, 13)\n"
     ]
    }
   ],
   "source": [
    "# print Y of the first output sequqnce\n",
    "print(Y.shape)"
   ]
  },
  {
   "cell_type": "markdown",
   "metadata": {},
   "source": [
    "## Split data in training, validation and tesing sets"
   ]
  },
  {
   "cell_type": "code",
   "execution_count": 55,
   "metadata": {
    "collapsed": true
   },
   "outputs": [],
   "source": [
    "# split entire data into training and testing sets\n",
    "TEST_SIZE = 0.15\n",
    "X_train, X_test, Y_train, Y_test = train_test_split(X, Y, test_size=TEST_SIZE, random_state=4)"
   ]
  },
  {
   "cell_type": "code",
   "execution_count": 56,
   "metadata": {
    "collapsed": true
   },
   "outputs": [],
   "source": [
    "# split training data into training and validation sets\n",
    "VALID_SIZE = 0.15\n",
    "X_train, X_validation, Y_train, Y_validation = train_test_split(X_train, Y_train, test_size=VALID_SIZE, random_state=4)"
   ]
  },
  {
   "cell_type": "code",
   "execution_count": 57,
   "metadata": {},
   "outputs": [
    {
     "name": "stdout",
     "output_type": "stream",
     "text": [
      "TRAINING DATA\n",
      "Shape of input sequences: (52165, 100)\n",
      "Shape of output sequences: (52165, 100, 13)\n",
      "--------------------------------------------------\n",
      "VALIDATION DATA\n",
      "Shape of input sequences: (9206, 100)\n",
      "Shape of output sequences: (9206, 100, 13)\n",
      "--------------------------------------------------\n",
      "TESTING DATA\n",
      "Shape of input sequences: (10831, 100)\n",
      "Shape of output sequences: (10831, 100, 13)\n"
     ]
    }
   ],
   "source": [
    "# print number of samples in each set\n",
    "print(\"TRAINING DATA\")\n",
    "print('Shape of input sequences: {}'.format(X_train.shape))\n",
    "print('Shape of output sequences: {}'.format(Y_train.shape))\n",
    "print(\"-\"*50)\n",
    "print(\"VALIDATION DATA\")\n",
    "print('Shape of input sequences: {}'.format(X_validation.shape))\n",
    "print('Shape of output sequences: {}'.format(Y_validation.shape))\n",
    "print(\"-\"*50)\n",
    "print(\"TESTING DATA\")\n",
    "print('Shape of input sequences: {}'.format(X_test.shape))\n",
    "print('Shape of output sequences: {}'.format(Y_test.shape))"
   ]
  },
  {
   "cell_type": "markdown",
   "metadata": {},
   "source": [
    "Before using RNN, we must make sure the dimensions of the data are what an RNN expects. In general, an RNN expects the following shape\n",
    "\n",
    "Shape of X:\n",
    "(#samples, #timesteps, #features)\n",
    "\n",
    "Shape of Y:\n",
    "(#samples, #timesteps, #features)\n",
    "\n",
    "![RNN tensor shape](./jupyter_resources/rnn_tensor.png)\n",
    "\n",
    "Now, there can be various variations in the shape that you use to feed an RNN depending on the type of architecture. Since the problem we're working on has a many-to-many architecture, the input and the output both include number of timesteps which is nothing but the sequence length. But notice that the tensor X doesn't have the third dimension, that is, number of features. That's because we're going to use word embeddings before feeding in the data to an RNN, and hence there is no need to explicitly mention the third dimension. That's because when you use the Embedding() layer in Keras, you the training data will automatically be converted to (#samples, #timesteps, #features) where #features will be the embedding dimention (and note that the Embedding layer is always the very first layer of an RNN). While using the embedding layer we only need to reshape the data to (#samples, #timesteps) which is what we have done. However, note that you'll need to shape it to (#samples, #timesteps, #features) in case you don't use the Embedding() layer in Keras."
   ]
  },
  {
   "cell_type": "markdown",
   "metadata": {},
   "source": [
    "# 2. Vanilla RNN"
   ]
  },
  {
   "cell_type": "markdown",
   "metadata": {},
   "source": [
    "### Uninitialised fixed embeddings\n",
    "First let's try running a vanilla RNN. For this RNN we won't use the pre-trained word embeddings. We'll use randomly inititalised embeddings. Moreover, we won't update the embeddings weights."
   ]
  },
  {
   "cell_type": "code",
   "execution_count": 59,
   "metadata": {
    "collapsed": true
   },
   "outputs": [
    {
     "data": {
      "text/plain": [
       "13"
      ]
     },
     "execution_count": 59,
     "metadata": {},
     "output_type": "execute_result"
    }
   ],
   "source": [
    "# total number of tags\n",
    "NUM_CLASSES = Y.shape[2]\n",
    "NUM_CLASSES"
   ]
  },
  {
   "cell_type": "code",
   "execution_count": 60,
   "metadata": {
    "collapsed": true
   },
   "outputs": [
    {
     "name": "stdout",
     "output_type": "stream",
     "text": [
      "WARNING:tensorflow:From /Users/ajay/anaconda3/envs/UpgradDL/lib/python3.7/site-packages/tensorflow/python/framework/op_def_library.py:263: colocate_with (from tensorflow.python.framework.ops) is deprecated and will be removed in a future version.\n",
      "Instructions for updating:\n",
      "Colocations handled automatically by placer.\n"
     ]
    }
   ],
   "source": [
    "# create architecture\n",
    "\n",
    "rnn_model = Sequential()\n",
    "\n",
    "# create embedding layer - usually the first layer in text problems\n",
    "rnn_model.add(Embedding(input_dim     =  VOCABULARY_SIZE,         # vocabulary size - number of unique words in data\n",
    "                        output_dim    =  EMBEDDING_SIZE,          # length of vector with which each word is represented\n",
    "                        input_length  =  MAX_SEQ_LENGTH,          # length of input sequence\n",
    "                        trainable     =  False                    # False - don't update the embeddings\n",
    "))\n",
    "\n",
    "# add an RNN layer which contains 64 RNN cells\n",
    "rnn_model.add(SimpleRNN(64, \n",
    "              return_sequences=True  # True - return whole sequence; False - return single output of the end of the sequence\n",
    "))\n",
    "\n",
    "# add time distributed (output at each sequence) layer\n",
    "rnn_model.add(TimeDistributed(Dense(NUM_CLASSES, activation='softmax')))"
   ]
  },
  {
   "cell_type": "markdown",
   "metadata": {},
   "source": [
    "## Compile model"
   ]
  },
  {
   "cell_type": "code",
   "execution_count": 61,
   "metadata": {
    "collapsed": true
   },
   "outputs": [],
   "source": [
    "rnn_model.compile(loss      =  'categorical_crossentropy',\n",
    "                  optimizer =  'adam',\n",
    "                  metrics   =  ['acc'])"
   ]
  },
  {
   "cell_type": "code",
   "execution_count": 62,
   "metadata": {},
   "outputs": [
    {
     "name": "stdout",
     "output_type": "stream",
     "text": [
      "_________________________________________________________________\n",
      "Layer (type)                 Output Shape              Param #   \n",
      "=================================================================\n",
      "embedding_1 (Embedding)      (None, 100, 300)          17834700  \n",
      "_________________________________________________________________\n",
      "simple_rnn_1 (SimpleRNN)     (None, 100, 64)           23360     \n",
      "_________________________________________________________________\n",
      "time_distributed_1 (TimeDist (None, 100, 13)           845       \n",
      "=================================================================\n",
      "Total params: 17,858,905\n",
      "Trainable params: 24,205\n",
      "Non-trainable params: 17,834,700\n",
      "_________________________________________________________________\n"
     ]
    }
   ],
   "source": [
    "# check summary of the model\n",
    "rnn_model.summary()"
   ]
  },
  {
   "cell_type": "markdown",
   "metadata": {},
   "source": [
    "## Fit model"
   ]
  },
  {
   "cell_type": "code",
   "execution_count": 63,
   "metadata": {},
   "outputs": [
    {
     "name": "stdout",
     "output_type": "stream",
     "text": [
      "WARNING:tensorflow:From /Users/ajay/anaconda3/envs/UpgradDL/lib/python3.7/site-packages/tensorflow/python/ops/math_ops.py:3066: to_int32 (from tensorflow.python.ops.math_ops) is deprecated and will be removed in a future version.\n",
      "Instructions for updating:\n",
      "Use tf.cast instead.\n",
      "Train on 52165 samples, validate on 9206 samples\n",
      "Epoch 1/10\n",
      "52165/52165 [==============================] - 35s 671us/step - loss: 0.5002 - acc: 0.8608 - val_loss: 0.3336 - val_acc: 0.8999\n",
      "Epoch 2/10\n",
      "52165/52165 [==============================] - 32s 616us/step - loss: 0.2777 - acc: 0.9152 - val_loss: 0.2325 - val_acc: 0.9290\n",
      "Epoch 3/10\n",
      "52165/52165 [==============================] - 32s 612us/step - loss: 0.2096 - acc: 0.9351 - val_loss: 0.1881 - val_acc: 0.9407\n",
      "Epoch 4/10\n",
      "52165/52165 [==============================] - 32s 605us/step - loss: 0.1764 - acc: 0.9440 - val_loss: 0.1634 - val_acc: 0.9476\n",
      "Epoch 5/10\n",
      "52165/52165 [==============================] - 32s 616us/step - loss: 0.1567 - acc: 0.9497 - val_loss: 0.1484 - val_acc: 0.9520\n",
      "Epoch 6/10\n",
      "52165/52165 [==============================] - 33s 632us/step - loss: 0.1445 - acc: 0.9532 - val_loss: 0.1388 - val_acc: 0.9546\n",
      "Epoch 7/10\n",
      "52165/52165 [==============================] - 33s 633us/step - loss: 0.1363 - acc: 0.9551 - val_loss: 0.1317 - val_acc: 0.9564\n",
      "Epoch 8/10\n",
      "52165/52165 [==============================] - 33s 624us/step - loss: 0.1304 - acc: 0.9567 - val_loss: 0.1272 - val_acc: 0.9575\n",
      "Epoch 9/10\n",
      "52165/52165 [==============================] - 33s 633us/step - loss: 0.1261 - acc: 0.9579 - val_loss: 0.1233 - val_acc: 0.9587\n",
      "Epoch 10/10\n",
      "52165/52165 [==============================] - 33s 631us/step - loss: 0.1229 - acc: 0.9588 - val_loss: 0.1207 - val_acc: 0.9596\n"
     ]
    }
   ],
   "source": [
    "rnn_training = rnn_model.fit(X_train, Y_train, batch_size=128, epochs=10, validation_data=(X_validation, Y_validation))"
   ]
  },
  {
   "cell_type": "code",
   "execution_count": 64,
   "metadata": {
    "scrolled": true
   },
   "outputs": [
    {
     "data": {
      "image/png": "[encoded data removed]",
      "text/plain": [
       "<Figure size 432x288 with 1 Axes>"
      ]
     },
     "metadata": {
      "needs_background": "light"
     },
     "output_type": "display_data"
    }
   ],
   "source": [
    "# visualise training history\n",
    "plt.plot(rnn_training.history['acc'])\n",
    "plt.plot(rnn_training.history['val_acc'])\n",
    "plt.title('model accuracy')\n",
    "plt.ylabel('accuracy')\n",
    "plt.xlabel('epoch')\n",
    "plt.legend(['train', 'test'], loc=\"lower right\")\n",
    "plt.show()"
   ]
  },
  {
   "cell_type": "markdown",
   "metadata": {},
   "source": [
    "### Uninitialised trainable embeddings"
   ]
  },
  {
   "cell_type": "code",
   "execution_count": 65,
   "metadata": {
    "collapsed": true
   },
   "outputs": [],
   "source": [
    "# create architecture\n",
    "\n",
    "rnn_model = Sequential()\n",
    "\n",
    "# create embedding layer - usually the first layer in text problems\n",
    "rnn_model.add(Embedding(input_dim     =  VOCABULARY_SIZE,         # vocabulary size - number of unique words in data\n",
    "                        output_dim    =  EMBEDDING_SIZE,          # length of vector with which each word is represented\n",
    "                        input_length  =  MAX_SEQ_LENGTH,          # length of input sequence\n",
    "                        trainable     =  True                     # True - update the embeddings while training\n",
    "))\n",
    "\n",
    "# add an RNN layer which contains 64 RNN cells\n",
    "rnn_model.add(SimpleRNN(64, \n",
    "              return_sequences=True  # True - return whole sequence; False - return single output of the end of the sequence\n",
    "))\n",
    "\n",
    "# add time distributed (output at each sequence) layer\n",
    "rnn_model.add(TimeDistributed(Dense(NUM_CLASSES, activation='softmax')))"
   ]
  },
  {
   "cell_type": "markdown",
   "metadata": {},
   "source": [
    "## Compile model"
   ]
  },
  {
   "cell_type": "code",
   "execution_count": 66,
   "metadata": {
    "collapsed": true
   },
   "outputs": [],
   "source": [
    "rnn_model.compile(loss      =  'categorical_crossentropy',\n",
    "                  optimizer =  'adam',\n",
    "                  metrics   =  ['acc'])"
   ]
  },
  {
   "cell_type": "code",
   "execution_count": 67,
   "metadata": {
    "scrolled": true
   },
   "outputs": [
    {
     "name": "stdout",
     "output_type": "stream",
     "text": [
      "_________________________________________________________________\n",
      "Layer (type)                 Output Shape              Param #   \n",
      "=================================================================\n",
      "embedding_2 (Embedding)      (None, 100, 300)          17834700  \n",
      "_________________________________________________________________\n",
      "simple_rnn_2 (SimpleRNN)     (None, 100, 64)           23360     \n",
      "_________________________________________________________________\n",
      "time_distributed_2 (TimeDist (None, 100, 13)           845       \n",
      "=================================================================\n",
      "Total params: 17,858,905\n",
      "Trainable params: 17,858,905\n",
      "Non-trainable params: 0\n",
      "_________________________________________________________________\n"
     ]
    }
   ],
   "source": [
    "# check summary of the model\n",
    "rnn_model.summary()"
   ]
  },
  {
   "cell_type": "markdown",
   "metadata": {},
   "source": [
    "## Fit model"
   ]
  },
  {
   "cell_type": "code",
   "execution_count": 68,
   "metadata": {},
   "outputs": [
    {
     "name": "stdout",
     "output_type": "stream",
     "text": [
      "Train on 52165 samples, validate on 9206 samples\n",
      "Epoch 1/10\n",
      "52165/52165 [==============================] - 165s 3ms/step - loss: 0.2118 - acc: 0.9533 - val_loss: 0.0410 - val_acc: 0.9877\n",
      "Epoch 2/10\n",
      "52165/52165 [==============================] - 174s 3ms/step - loss: 0.0295 - acc: 0.9904 - val_loss: 0.0293 - val_acc: 0.9899\n",
      "Epoch 3/10\n",
      "52165/52165 [==============================] - 168s 3ms/step - loss: 0.0205 - acc: 0.9928 - val_loss: 0.0273 - val_acc: 0.9904\n",
      "Epoch 4/10\n",
      "52165/52165 [==============================] - 170s 3ms/step - loss: 0.0170 - acc: 0.9940 - val_loss: 0.0269 - val_acc: 0.9904\n",
      "Epoch 5/10\n",
      "52165/52165 [==============================] - 167s 3ms/step - loss: 0.0146 - acc: 0.9948 - val_loss: 0.0273 - val_acc: 0.9904\n",
      "Epoch 6/10\n",
      "52165/52165 [==============================] - 167s 3ms/step - loss: 0.0126 - acc: 0.9956 - val_loss: 0.0285 - val_acc: 0.9902\n",
      "Epoch 7/10\n",
      "52165/52165 [==============================] - 174s 3ms/step - loss: 0.0107 - acc: 0.9964 - val_loss: 0.0301 - val_acc: 0.9901\n",
      "Epoch 8/10\n",
      "52165/52165 [==============================] - 156s 3ms/step - loss: 0.0090 - acc: 0.9970 - val_loss: 0.0321 - val_acc: 0.9898\n",
      "Epoch 9/10\n",
      "52165/52165 [==============================] - 140s 3ms/step - loss: 0.0076 - acc: 0.9976 - val_loss: 0.0345 - val_acc: 0.9896\n",
      "Epoch 10/10\n",
      "52165/52165 [==============================] - 140s 3ms/step - loss: 0.0063 - acc: 0.9980 - val_loss: 0.0369 - val_acc: 0.9892\n"
     ]
    }
   ],
   "source": [
    "rnn_training = rnn_model.fit(X_train, Y_train, batch_size=128, epochs=10, validation_data=(X_validation, Y_validation))"
   ]
  },
  {
   "cell_type": "code",
   "execution_count": 52,
   "metadata": {
    "scrolled": true
   },
   "outputs": [
    {
     "data": {
      "image/png": "[encoded data removed]",
      "text/plain": [
       "<matplotlib.figure.Figure at 0x7ff8cd57c390>"
      ]
     },
     "metadata": {},
     "output_type": "display_data"
    }
   ],
   "source": [
    "# visualise training history\n",
    "plt.plot(rnn_training.history['acc'])\n",
    "plt.plot(rnn_training.history['val_acc'])\n",
    "plt.title('model accuracy')\n",
    "plt.ylabel('accuracy')\n",
    "plt.xlabel('epoch')\n",
    "plt.legend(['train', 'test'], loc=\"lower right\")\n",
    "plt.show()"
   ]
  },
  {
   "cell_type": "markdown",
   "metadata": {},
   "source": [
    "### Using pre-trained embedding weights"
   ]
  },
  {
   "cell_type": "code",
   "execution_count": 53,
   "metadata": {
    "collapsed": true
   },
   "outputs": [],
   "source": [
    "# create architecture\n",
    "\n",
    "rnn_model = Sequential()\n",
    "\n",
    "# create embedding layer - usually the first layer in text problems\n",
    "rnn_model.add(Embedding(input_dim     =  VOCABULARY_SIZE,         # vocabulary size - number of unique words in data\n",
    "                        output_dim    =  EMBEDDING_SIZE,          # length of vector with which each word is represented\n",
    "                        input_length  =  MAX_SEQ_LENGTH,          # length of input sequence\n",
    "                        weights       = [embedding_weights],      # word embedding matrix\n",
    "                        trainable     =  True                     # True - update the embeddings while training\n",
    "))\n",
    "\n",
    "# add an RNN layer which contains 64 RNN cells\n",
    "rnn_model.add(SimpleRNN(64, \n",
    "              return_sequences=True  # True - return whole sequence; False - return single output of the end of the sequence\n",
    "))\n",
    "\n",
    "# add time distributed (output at each sequence) layer\n",
    "rnn_model.add(TimeDistributed(Dense(NUM_CLASSES, activation='softmax')))"
   ]
  },
  {
   "cell_type": "markdown",
   "metadata": {},
   "source": [
    "## Compile model"
   ]
  },
  {
   "cell_type": "code",
   "execution_count": 54,
   "metadata": {
    "collapsed": true
   },
   "outputs": [],
   "source": [
    "rnn_model.compile(loss      =  'categorical_crossentropy',\n",
    "                  optimizer =  'adam',\n",
    "                  metrics   =  ['acc'])"
   ]
  },
  {
   "cell_type": "code",
   "execution_count": 55,
   "metadata": {
    "scrolled": true
   },
   "outputs": [
    {
     "name": "stdout",
     "output_type": "stream",
     "text": [
      "_________________________________________________________________\n",
      "Layer (type)                 Output Shape              Param #   \n",
      "=================================================================\n",
      "embedding_8 (Embedding)      (None, 100, 300)          17834700  \n",
      "_________________________________________________________________\n",
      "simple_rnn_7 (SimpleRNN)     (None, 100, 64)           23360     \n",
      "_________________________________________________________________\n",
      "time_distributed_6 (TimeDist (None, 100, 13)           845       \n",
      "=================================================================\n",
      "Total params: 17,858,905\n",
      "Trainable params: 17,858,905\n",
      "Non-trainable params: 0\n",
      "_________________________________________________________________\n"
     ]
    }
   ],
   "source": [
    "# check summary of the model\n",
    "rnn_model.summary()"
   ]
  },
  {
   "cell_type": "markdown",
   "metadata": {},
   "source": [
    "## Fit model"
   ]
  },
  {
   "cell_type": "code",
   "execution_count": 56,
   "metadata": {},
   "outputs": [
    {
     "name": "stdout",
     "output_type": "stream",
     "text": [
      "Train on 52165 samples, validate on 9206 samples\n",
      "Epoch 1/10\n",
      "52165/52165 [==============================] - 29s 547us/step - loss: 0.1853 - acc: 0.9621 - val_loss: 0.0345 - val_acc: 0.9892\n",
      "Epoch 2/10\n",
      "52165/52165 [==============================] - 28s 534us/step - loss: 0.0266 - acc: 0.9911 - val_loss: 0.0268 - val_acc: 0.9907\n",
      "Epoch 3/10\n",
      "52165/52165 [==============================] - 28s 540us/step - loss: 0.0198 - acc: 0.9930 - val_loss: 0.0250 - val_acc: 0.9911\n",
      "Epoch 4/10\n",
      "52165/52165 [==============================] - 28s 538us/step - loss: 0.0169 - acc: 0.9940 - val_loss: 0.0247 - val_acc: 0.9913\n",
      "Epoch 5/10\n",
      "52165/52165 [==============================] - 28s 537us/step - loss: 0.0149 - acc: 0.9946 - val_loss: 0.0246 - val_acc: 0.9913\n",
      "Epoch 6/10\n",
      "52165/52165 [==============================] - 28s 541us/step - loss: 0.0133 - acc: 0.9953 - val_loss: 0.0249 - val_acc: 0.9913\n",
      "Epoch 7/10\n",
      "52165/52165 [==============================] - 28s 537us/step - loss: 0.0117 - acc: 0.9959 - val_loss: 0.0259 - val_acc: 0.9911\n",
      "Epoch 8/10\n",
      "52165/52165 [==============================] - 28s 542us/step - loss: 0.0103 - acc: 0.9964 - val_loss: 0.0270 - val_acc: 0.9910\n",
      "Epoch 9/10\n",
      "52165/52165 [==============================] - 28s 542us/step - loss: 0.0090 - acc: 0.9970 - val_loss: 0.0284 - val_acc: 0.9908\n",
      "Epoch 10/10\n",
      "52165/52165 [==============================] - 42s 799us/step - loss: 0.0077 - acc: 0.9974 - val_loss: 0.0301 - val_acc: 0.9907\n"
     ]
    }
   ],
   "source": [
    "rnn_training = rnn_model.fit(X_train, Y_train, batch_size=128, epochs=10, validation_data=(X_validation, Y_validation))"
   ]
  },
  {
   "cell_type": "code",
   "execution_count": 52,
   "metadata": {
    "scrolled": true
   },
   "outputs": [
    {
     "data": {
      "image/png": "[encoded data removed]",
      "text/plain": [
       "<matplotlib.figure.Figure at 0x7ff8cd57c390>"
      ]
     },
     "metadata": {},
     "output_type": "display_data"
    }
   ],
   "source": [
    "# visualise training history\n",
    "plt.plot(rnn_training.history['acc'])\n",
    "plt.plot(rnn_training.history['val_acc'])\n",
    "plt.title('model accuracy')\n",
    "plt.ylabel('accuracy')\n",
    "plt.xlabel('epoch')\n",
    "plt.legend(['train', 'test'], loc=\"lower right\")\n",
    "plt.show()"
   ]
  },
  {
   "cell_type": "markdown",
   "metadata": {},
   "source": [
    "# 2. LSTM"
   ]
  },
  {
   "cell_type": "markdown",
   "metadata": {},
   "source": [
    "We'll use pre-trained word embeddings in following models and allow them to be updated as well. "
   ]
  },
  {
   "cell_type": "markdown",
   "metadata": {},
   "source": [
    "## Create model architecture"
   ]
  },
  {
   "cell_type": "code",
   "execution_count": 57,
   "metadata": {
    "collapsed": true
   },
   "outputs": [],
   "source": [
    "# create architecture\n",
    "\n",
    "lstm_model = Sequential()\n",
    "lstm_model.add(Embedding(input_dim     = VOCABULARY_SIZE,         # vocabulary size - number of unique words in data\n",
    "                         output_dim    = EMBEDDING_SIZE,          # length of vector with which each word is represented\n",
    "                         input_length  = MAX_SEQ_LENGTH,          # length of input sequence\n",
    "                         weights       = [embedding_weights],     # word embedding matrix\n",
    "                         trainable     = True                     # True - update embeddings_weight matrix\n",
    "))\n",
    "lstm_model.add(LSTM(64, return_sequences=True))\n",
    "lstm_model.add(TimeDistributed(Dense(NUM_CLASSES, activation='softmax')))"
   ]
  },
  {
   "cell_type": "markdown",
   "metadata": {},
   "source": [
    "## Compile model"
   ]
  },
  {
   "cell_type": "code",
   "execution_count": 58,
   "metadata": {
    "collapsed": true
   },
   "outputs": [],
   "source": [
    "lstm_model.compile(loss      =  'categorical_crossentropy',\n",
    "                   optimizer =  'adam',\n",
    "                   metrics   =  ['acc'])"
   ]
  },
  {
   "cell_type": "code",
   "execution_count": 59,
   "metadata": {},
   "outputs": [
    {
     "name": "stdout",
     "output_type": "stream",
     "text": [
      "_________________________________________________________________\n",
      "Layer (type)                 Output Shape              Param #   \n",
      "=================================================================\n",
      "embedding_9 (Embedding)      (None, 100, 300)          17834700  \n",
      "_________________________________________________________________\n",
      "lstm_1 (LSTM)                (None, 100, 64)           93440     \n",
      "_________________________________________________________________\n",
      "time_distributed_7 (TimeDist (None, 100, 13)           845       \n",
      "=================================================================\n",
      "Total params: 17,928,985\n",
      "Trainable params: 17,928,985\n",
      "Non-trainable params: 0\n",
      "_________________________________________________________________\n"
     ]
    }
   ],
   "source": [
    "# check summary of the model\n",
    "lstm_model.summary()"
   ]
  },
  {
   "cell_type": "markdown",
   "metadata": {},
   "source": [
    "## Fit model"
   ]
  },
  {
   "cell_type": "code",
   "execution_count": 60,
   "metadata": {},
   "outputs": [
    {
     "name": "stdout",
     "output_type": "stream",
     "text": [
      "Train on 52165 samples, validate on 9206 samples\n",
      "Epoch 1/10\n",
      "52165/52165 [==============================] - 89s 2ms/step - loss: 0.3125 - acc: 0.9327 - val_loss: 0.0463 - val_acc: 0.9871\n",
      "Epoch 2/10\n",
      "52165/52165 [==============================] - 74s 1ms/step - loss: 0.0333 - acc: 0.9896 - val_loss: 0.0296 - val_acc: 0.9900\n",
      "Epoch 3/10\n",
      "52165/52165 [==============================] - 75s 1ms/step - loss: 0.0234 - acc: 0.9919 - val_loss: 0.0261 - val_acc: 0.9908\n",
      "Epoch 4/10\n",
      "52165/52165 [==============================] - 77s 1ms/step - loss: 0.0198 - acc: 0.9929 - val_loss: 0.0248 - val_acc: 0.9910\n",
      "Epoch 5/10\n",
      "52165/52165 [==============================] - 77s 1ms/step - loss: 0.0176 - acc: 0.9935 - val_loss: 0.0240 - val_acc: 0.9912\n",
      "Epoch 6/10\n",
      "52165/52165 [==============================] - 77s 1ms/step - loss: 0.0159 - acc: 0.9941 - val_loss: 0.0238 - val_acc: 0.9915\n",
      "Epoch 7/10\n",
      "52165/52165 [==============================] - 78s 1ms/step - loss: 0.0144 - acc: 0.9947 - val_loss: 0.0238 - val_acc: 0.9916\n",
      "Epoch 8/10\n",
      "52165/52165 [==============================] - 77s 1ms/step - loss: 0.0129 - acc: 0.9953 - val_loss: 0.0239 - val_acc: 0.9916\n",
      "Epoch 9/10\n",
      "52165/52165 [==============================] - 77s 1ms/step - loss: 0.0115 - acc: 0.9959 - val_loss: 0.0246 - val_acc: 0.9916\n",
      "Epoch 10/10\n",
      "52165/52165 [==============================] - 77s 1ms/step - loss: 0.0103 - acc: 0.9964 - val_loss: 0.0255 - val_acc: 0.9915\n"
     ]
    }
   ],
   "source": [
    "lstm_training = lstm_model.fit(X_train, Y_train, batch_size=128, epochs=10, validation_data=(X_validation, Y_validation))"
   ]
  },
  {
   "cell_type": "code",
   "execution_count": 61,
   "metadata": {},
   "outputs": [
    {
     "data": {
      "image/png": "[encoded data removed]",
      "text/plain": [
       "<matplotlib.figure.Figure at 0x7ff8cc30ecc0>"
      ]
     },
     "metadata": {},
     "output_type": "display_data"
    }
   ],
   "source": [
    "# visualise training history\n",
    "plt.plot(lstm_training.history['acc'])\n",
    "plt.plot(lstm_training.history['val_acc'])\n",
    "plt.title('model accuracy')\n",
    "plt.ylabel('accuracy')\n",
    "plt.xlabel('epoch')\n",
    "plt.legend(['train', 'test'], loc=\"lower right\")\n",
    "plt.show()"
   ]
  },
  {
   "cell_type": "markdown",
   "metadata": {},
   "source": [
    "# 2. GRU"
   ]
  },
  {
   "cell_type": "markdown",
   "metadata": {},
   "source": [
    "## Create model architecture"
   ]
  },
  {
   "cell_type": "code",
   "execution_count": 66,
   "metadata": {
    "collapsed": true
   },
   "outputs": [],
   "source": [
    "# create architecture\n",
    "\n",
    "gru_model = Sequential()\n",
    "gru_model.add(Embedding(input_dim     = VOCABULARY_SIZE,\n",
    "                        output_dim    = EMBEDDING_SIZE,\n",
    "                        input_length  = MAX_SEQ_LENGTH,\n",
    "                        weights       = [embedding_weights],\n",
    "                        trainable     = True\n",
    "))\n",
    "gru_model.add(GRU(64, return_sequences=True))\n",
    "gru_model.add(TimeDistributed(Dense(NUM_CLASSES, activation='softmax')))"
   ]
  },
  {
   "cell_type": "markdown",
   "metadata": {},
   "source": [
    "## Compile model"
   ]
  },
  {
   "cell_type": "code",
   "execution_count": 67,
   "metadata": {
    "collapsed": true
   },
   "outputs": [],
   "source": [
    "gru_model.compile(loss='categorical_crossentropy',\n",
    "              optimizer='adam',\n",
    "              metrics=['acc'])"
   ]
  },
  {
   "cell_type": "code",
   "execution_count": 68,
   "metadata": {},
   "outputs": [
    {
     "name": "stdout",
     "output_type": "stream",
     "text": [
      "_________________________________________________________________\n",
      "Layer (type)                 Output Shape              Param #   \n",
      "=================================================================\n",
      "embedding_11 (Embedding)     (None, 100, 300)          17834700  \n",
      "_________________________________________________________________\n",
      "gru_2 (GRU)                  (None, 100, 64)           70080     \n",
      "_________________________________________________________________\n",
      "time_distributed_9 (TimeDist (None, 100, 13)           845       \n",
      "=================================================================\n",
      "Total params: 17,905,625\n",
      "Trainable params: 17,905,625\n",
      "Non-trainable params: 0\n",
      "_________________________________________________________________\n"
     ]
    }
   ],
   "source": [
    "# check summary of model\n",
    "gru_model.summary()"
   ]
  },
  {
   "cell_type": "markdown",
   "metadata": {},
   "source": [
    "## Fit model"
   ]
  },
  {
   "cell_type": "code",
   "execution_count": 69,
   "metadata": {},
   "outputs": [
    {
     "name": "stdout",
     "output_type": "stream",
     "text": [
      "Train on 52165 samples, validate on 9206 samples\n",
      "Epoch 1/10\n",
      "52165/52165 [==============================] - 71s 1ms/step - loss: 0.2224 - acc: 0.9571 - val_loss: 0.0345 - val_acc: 0.9889\n",
      "Epoch 2/10\n",
      "52165/52165 [==============================] - 69s 1ms/step - loss: 0.0269 - acc: 0.9907 - val_loss: 0.0266 - val_acc: 0.9905\n",
      "Epoch 3/10\n",
      "52165/52165 [==============================] - 69s 1ms/step - loss: 0.0202 - acc: 0.9926 - val_loss: 0.0244 - val_acc: 0.9912\n",
      "Epoch 4/10\n",
      "52165/52165 [==============================] - 67s 1ms/step - loss: 0.0175 - acc: 0.9935 - val_loss: 0.0237 - val_acc: 0.9914\n",
      "Epoch 5/10\n",
      "52165/52165 [==============================] - 69s 1ms/step - loss: 0.0157 - acc: 0.9941 - val_loss: 0.0235 - val_acc: 0.9915\n",
      "Epoch 6/10\n",
      "52165/52165 [==============================] - 69s 1ms/step - loss: 0.0143 - acc: 0.9946 - val_loss: 0.0236 - val_acc: 0.9915\n",
      "Epoch 7/10\n",
      "52165/52165 [==============================] - 65s 1ms/step - loss: 0.0131 - acc: 0.9951 - val_loss: 0.0241 - val_acc: 0.9915\n",
      "Epoch 8/10\n",
      "52165/52165 [==============================] - 73s 1ms/step - loss: 0.0119 - acc: 0.9956 - val_loss: 0.0248 - val_acc: 0.9915\n",
      "Epoch 9/10\n",
      "52165/52165 [==============================] - 66s 1ms/step - loss: 0.0107 - acc: 0.9961 - val_loss: 0.0259 - val_acc: 0.9915\n",
      "Epoch 10/10\n",
      "52165/52165 [==============================] - 69s 1ms/step - loss: 0.0096 - acc: 0.9966 - val_loss: 0.0269 - val_acc: 0.9913\n"
     ]
    }
   ],
   "source": [
    "gru_training = gru_model.fit(X_train, Y_train, batch_size=128, epochs=10, validation_data=(X_validation, Y_validation))"
   ]
  },
  {
   "cell_type": "code",
   "execution_count": 70,
   "metadata": {},
   "outputs": [
    {
     "data": {
      "image/png": "[encoded data removed]",
      "text/plain": [
       "<matplotlib.figure.Figure at 0x7ff8a69878d0>"
      ]
     },
     "metadata": {},
     "output_type": "display_data"
    }
   ],
   "source": [
    "# visualise training history\n",
    "plt.plot(gru_training.history['acc'])\n",
    "plt.plot(gru_training.history['val_acc'])\n",
    "plt.title('model accuracy')\n",
    "plt.ylabel('accuracy')\n",
    "plt.xlabel('epoch')\n",
    "plt.legend(['train', 'test'], loc=\"lower right\")\n",
    "plt.show()"
   ]
  },
  {
   "cell_type": "markdown",
   "metadata": {},
   "source": [
    "# 3. Bidirectional LSTM"
   ]
  },
  {
   "cell_type": "markdown",
   "metadata": {},
   "source": [
    "## Create model architecture"
   ]
  },
  {
   "cell_type": "code",
   "execution_count": 71,
   "metadata": {
    "collapsed": true
   },
   "outputs": [],
   "source": [
    "# create architecture\n",
    "\n",
    "bidirect_model = Sequential()\n",
    "bidirect_model.add(Embedding(input_dim     = VOCABULARY_SIZE,\n",
    "                             output_dim    = EMBEDDING_SIZE,\n",
    "                             input_length  = MAX_SEQ_LENGTH,\n",
    "                             weights       = [embedding_weights],\n",
    "                             trainable     = True\n",
    "))\n",
    "bidirect_model.add(Bidirectional(LSTM(64, return_sequences=True)))\n",
    "bidirect_model.add(TimeDistributed(Dense(NUM_CLASSES, activation='softmax')))"
   ]
  },
  {
   "cell_type": "markdown",
   "metadata": {},
   "source": [
    "## Compile model"
   ]
  },
  {
   "cell_type": "code",
   "execution_count": 72,
   "metadata": {
    "collapsed": true
   },
   "outputs": [],
   "source": [
    "bidirect_model.compile(loss='categorical_crossentropy',\n",
    "              optimizer='adam',\n",
    "              metrics=['acc'])"
   ]
  },
  {
   "cell_type": "code",
   "execution_count": 73,
   "metadata": {},
   "outputs": [
    {
     "name": "stdout",
     "output_type": "stream",
     "text": [
      "_________________________________________________________________\n",
      "Layer (type)                 Output Shape              Param #   \n",
      "=================================================================\n",
      "embedding_12 (Embedding)     (None, 100, 300)          17834700  \n",
      "_________________________________________________________________\n",
      "bidirectional_1 (Bidirection (None, 100, 128)          186880    \n",
      "_________________________________________________________________\n",
      "time_distributed_10 (TimeDis (None, 100, 13)           1677      \n",
      "=================================================================\n",
      "Total params: 18,023,257\n",
      "Trainable params: 18,023,257\n",
      "Non-trainable params: 0\n",
      "_________________________________________________________________\n"
     ]
    }
   ],
   "source": [
    "# check summary of model\n",
    "bidirect_model.summary()"
   ]
  },
  {
   "cell_type": "markdown",
   "metadata": {},
   "source": [
    "## Fit model"
   ]
  },
  {
   "cell_type": "code",
   "execution_count": 74,
   "metadata": {},
   "outputs": [
    {
     "name": "stdout",
     "output_type": "stream",
     "text": [
      "Train on 52165 samples, validate on 9206 samples\n",
      "Epoch 1/10\n",
      "52165/52165 [==============================] - 155s 3ms/step - loss: 0.2523 - acc: 0.9413 - val_loss: 0.0322 - val_acc: 0.9901\n",
      "Epoch 2/10\n",
      "52165/52165 [==============================] - 156s 3ms/step - loss: 0.0234 - acc: 0.9924 - val_loss: 0.0217 - val_acc: 0.9927\n",
      "Epoch 3/10\n",
      "52165/52165 [==============================] - 140s 3ms/step - loss: 0.0158 - acc: 0.9948 - val_loss: 0.0192 - val_acc: 0.9935\n",
      "Epoch 4/10\n",
      "52165/52165 [==============================] - 139s 3ms/step - loss: 0.0125 - acc: 0.9958 - val_loss: 0.0182 - val_acc: 0.9938\n",
      "Epoch 5/10\n",
      "52165/52165 [==============================] - 136s 3ms/step - loss: 0.0101 - acc: 0.9966 - val_loss: 0.0178 - val_acc: 0.9941\n",
      "Epoch 6/10\n",
      "52165/52165 [==============================] - 138s 3ms/step - loss: 0.0081 - acc: 0.9974 - val_loss: 0.0179 - val_acc: 0.9942\n",
      "Epoch 7/10\n",
      "52165/52165 [==============================] - 136s 3ms/step - loss: 0.0063 - acc: 0.9980 - val_loss: 0.0184 - val_acc: 0.9943\n",
      "Epoch 8/10\n",
      "52165/52165 [==============================] - 137s 3ms/step - loss: 0.0048 - acc: 0.9986 - val_loss: 0.0197 - val_acc: 0.9941\n",
      "Epoch 9/10\n",
      "52165/52165 [==============================] - 139s 3ms/step - loss: 0.0036 - acc: 0.9990 - val_loss: 0.0208 - val_acc: 0.9941\n",
      "Epoch 10/10\n",
      "52165/52165 [==============================] - 141s 3ms/step - loss: 0.0027 - acc: 0.9993 - val_loss: 0.0221 - val_acc: 0.9939\n"
     ]
    }
   ],
   "source": [
    "bidirect_training = bidirect_model.fit(X_train, Y_train, batch_size=128, epochs=10, validation_data=(X_validation, Y_validation))"
   ]
  },
  {
   "cell_type": "code",
   "execution_count": 75,
   "metadata": {},
   "outputs": [
    {
     "data": {
      "image/png": "[encoded data removed]",
      "text/plain": [
       "<matplotlib.figure.Figure at 0x7ff8a565d160>"
      ]
     },
     "metadata": {},
     "output_type": "display_data"
    }
   ],
   "source": [
    "# visualise training history\n",
    "plt.plot(bidirect_training.history['acc'])\n",
    "plt.plot(bidirect_training.history['val_acc'])\n",
    "plt.title('model accuracy')\n",
    "plt.ylabel('accuracy')\n",
    "plt.xlabel('epoch')\n",
    "plt.legend(['train', 'test'], loc=\"lower right\")\n",
    "plt.show()"
   ]
  },
  {
   "cell_type": "markdown",
   "metadata": {},
   "source": [
    "# 5. Model evaluation"
   ]
  },
  {
   "cell_type": "code",
   "execution_count": 76,
   "metadata": {},
   "outputs": [
    {
     "name": "stdout",
     "output_type": "stream",
     "text": [
      "10831/10831 [==============================] - 9s 812us/step\n",
      "Loss: 0.030307781009474555,\n",
      "Accuracy: 0.9906518321135909\n"
     ]
    }
   ],
   "source": [
    "loss, accuracy = rnn_model.evaluate(X_test, Y_test, verbose = 1)\n",
    "print(\"Loss: {0},\\nAccuracy: {1}\".format(loss, accuracy))"
   ]
  },
  {
   "cell_type": "code",
   "execution_count": 77,
   "metadata": {},
   "outputs": [
    {
     "name": "stdout",
     "output_type": "stream",
     "text": [
      "10831/10831 [==============================] - 17s 2ms/step\n",
      "Loss: 0.025485771876122578,\n",
      "Accuracy: 0.9915363299484542\n"
     ]
    }
   ],
   "source": [
    "loss, accuracy = lstm_model.evaluate(X_test, Y_test, verbose = 1)\n",
    "print(\"Loss: {0},\\nAccuracy: {1}\".format(loss, accuracy))"
   ]
  },
  {
   "cell_type": "code",
   "execution_count": 78,
   "metadata": {},
   "outputs": [
    {
     "name": "stdout",
     "output_type": "stream",
     "text": [
      "10831/10831 [==============================] - 16s 1ms/step\n",
      "Loss: 0.026891293064947797,\n",
      "Accuracy: 0.9913895298003622\n"
     ]
    }
   ],
   "source": [
    "loss, accuracy = gru_model.evaluate(X_test, Y_test, verbose = 1)\n",
    "print(\"Loss: {0},\\nAccuracy: {1}\".format(loss, accuracy))"
   ]
  },
  {
   "cell_type": "code",
   "execution_count": 79,
   "metadata": {},
   "outputs": [
    {
     "name": "stdout",
     "output_type": "stream",
     "text": [
      "10831/10831 [==============================] - 34s 3ms/step\n",
      "Loss: 0.02203728499372694,\n",
      "Accuracy: 0.9938629862344471\n"
     ]
    }
   ],
   "source": [
    "loss, accuracy = bidirect_model.evaluate(X_test, Y_test, verbose = 1)\n",
    "print(\"Loss: {0},\\nAccuracy: {1}\".format(loss, accuracy))"
   ]
  }
 ],
 "metadata": {
  "kernelspec": {
   "display_name": "Python 3",
   "language": "python",
   "name": "python3"
  },
  "language_info": {
   "codemirror_mode": {
    "name": "ipython",
    "version": 3
   },
   "file_extension": ".py",
   "mimetype": "text/x-python",
   "name": "python",
   "nbconvert_exporter": "python",
   "pygments_lexer": "ipython3",
   "version": "3.7.1"
  }
 },
 "nbformat": 4,
 "nbformat_minor": 2
}
